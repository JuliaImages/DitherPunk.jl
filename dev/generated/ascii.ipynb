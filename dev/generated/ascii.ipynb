{
 "cells": [
  {
   "cell_type": "markdown",
   "source": [
    "# ASCII dithering\n",
    "In this example, we are going to approximate a grayscale gradient\n",
    "with an ASCII ramp such as ` .:-=+*#%@`."
   ],
   "metadata": {}
  },
  {
   "outputs": [],
   "cell_type": "code",
   "source": [
    "using Images\n",
    "using DitherPunk\n",
    "using TestImages"
   ],
   "metadata": {},
   "execution_count": 1
  },
  {
   "cell_type": "markdown",
   "source": [
    "When loading an image, we need to compensate for the aspect ratio of ASCII characters."
   ],
   "metadata": {}
  },
  {
   "outputs": [
    {
     "name": "stdout",
     "output_type": "stream",
     "text": [
      " Downloading artifact: images\n"
     ]
    },
    {
     "output_type": "execute_result",
     "data": {
      "text/plain": "37×86 Array{Gray{N0f8},2} with eltype ColorTypes.Gray{FixedPointNumbers.N0f8}:\n Gray{N0f8}(0.608)  Gray{N0f8}(0.616)  …  Gray{N0f8}(0.6)\n Gray{N0f8}(0.612)  Gray{N0f8}(0.616)     Gray{N0f8}(0.6)\n Gray{N0f8}(0.604)  Gray{N0f8}(0.616)     Gray{N0f8}(0.592)\n Gray{N0f8}(0.596)  Gray{N0f8}(0.604)     Gray{N0f8}(0.612)\n Gray{N0f8}(0.604)  Gray{N0f8}(0.616)     Gray{N0f8}(0.592)\n Gray{N0f8}(0.608)  Gray{N0f8}(0.612)  …  Gray{N0f8}(0.58)\n Gray{N0f8}(0.62)   Gray{N0f8}(0.624)     Gray{N0f8}(0.584)\n Gray{N0f8}(0.627)  Gray{N0f8}(0.631)     Gray{N0f8}(0.569)\n Gray{N0f8}(0.624)  Gray{N0f8}(0.639)     Gray{N0f8}(0.565)\n Gray{N0f8}(0.635)  Gray{N0f8}(0.639)     Gray{N0f8}(0.561)\n ⋮                                     ⋱  ⋮\n Gray{N0f8}(0.506)  Gray{N0f8}(0.529)     Gray{N0f8}(0.451)\n Gray{N0f8}(0.537)  Gray{N0f8}(0.545)     Gray{N0f8}(0.455)\n Gray{N0f8}(0.506)  Gray{N0f8}(0.514)  …  Gray{N0f8}(0.494)\n Gray{N0f8}(0.431)  Gray{N0f8}(0.502)     Gray{N0f8}(0.471)\n Gray{N0f8}(0.514)  Gray{N0f8}(0.42)      Gray{N0f8}(0.412)\n Gray{N0f8}(0.482)  Gray{N0f8}(0.467)     Gray{N0f8}(0.384)\n Gray{N0f8}(0.588)  Gray{N0f8}(0.549)     Gray{N0f8}(0.376)\n Gray{N0f8}(0.467)  Gray{N0f8}(0.416)  …  Gray{N0f8}(0.51)\n Gray{N0f8}(0.455)  Gray{N0f8}(0.388)     Gray{N0f8}(0.482)",
      "image/png": "[encoded data removed]"
     },
     "metadata": {},
     "execution_count": 2
    }
   ],
   "cell_type": "code",
   "source": [
    "img = testimage(\"cameraman\")\n",
    "img = imresize(img, ratio=(1//14, 1//6))"
   ],
   "metadata": {},
   "execution_count": 2
  },
  {
   "cell_type": "markdown",
   "source": [
    "We then define an ASCII ramp and a corresponding grayscale color scheme of matching length."
   ],
   "metadata": {}
  },
  {
   "outputs": [
    {
     "output_type": "execute_result",
     "data": {
      "text/plain": "10-element Array{Gray{Float64},1} with eltype ColorTypes.Gray{Float64}:\n Gray{Float64}(0.0)\n Gray{Float64}(0.1111111111111111)\n Gray{Float64}(0.2222222222222222)\n Gray{Float64}(0.3333333333333333)\n Gray{Float64}(0.4444444444444444)\n Gray{Float64}(0.5555555555555556)\n Gray{Float64}(0.6666666666666666)\n Gray{Float64}(0.7777777777777778)\n Gray{Float64}(0.8888888888888888)\n Gray{Float64}(1.0)",
      "image/svg+xml": [
       "<?xml version=\"1.0\" encoding=\"UTF-8\"?>\n",
       "<!DOCTYPE svg PUBLIC \"-//W3C//DTD SVG 1.1//EN\"\n",
       " \"http://www.w3.org/Graphics/SVG/1.1/DTD/svg11.dtd\">\n",
       "<svg xmlns=\"http://www.w3.org/2000/svg\" version=\"1.1\"\n",
       "     width=\"180mm\" height=\"25mm\"\n",
       "     viewBox=\"0 0 10 1\" preserveAspectRatio=\"none\"\n",
       "     shape-rendering=\"crispEdges\" stroke=\"none\">\n",
       "<rect width=\".94\" height=\".96\" x=\"0\" y=\"0\" fill=\"#000000\" />\n",
       "<rect width=\".94\" height=\".96\" x=\"1\" y=\"0\" fill=\"#1C1C1C\" />\n",
       "<rect width=\".94\" height=\".96\" x=\"2\" y=\"0\" fill=\"#393939\" />\n",
       "<rect width=\".94\" height=\".96\" x=\"3\" y=\"0\" fill=\"#555555\" />\n",
       "<rect width=\".94\" height=\".96\" x=\"4\" y=\"0\" fill=\"#717171\" />\n",
       "<rect width=\".94\" height=\".96\" x=\"5\" y=\"0\" fill=\"#8E8E8E\" />\n",
       "<rect width=\".94\" height=\".96\" x=\"6\" y=\"0\" fill=\"#AAAAAA\" />\n",
       "<rect width=\".94\" height=\".96\" x=\"7\" y=\"0\" fill=\"#C6C6C6\" />\n",
       "<rect width=\".94\" height=\".96\" x=\"8\" y=\"0\" fill=\"#E3E3E3\" />\n",
       "<rect width=\".94\" height=\".96\" x=\"9\" y=\"0\" fill=\"#FFFFFF\" />\n",
       "</svg>"
      ]
     },
     "metadata": {},
     "execution_count": 3
    }
   ],
   "cell_type": "code",
   "source": [
    "ascii_ramp = split(\" .:-=+*#%@\", \"\")\n",
    "cs = Gray.(range(0, 1, length=10))"
   ],
   "metadata": {},
   "execution_count": 3
  },
  {
   "cell_type": "markdown",
   "source": [
    "Dithering will return an `IndirectArray`:"
   ],
   "metadata": {}
  },
  {
   "outputs": [
    {
     "output_type": "execute_result",
     "data": {
      "text/plain": "37×86 IndirectArrays.IndirectArray{ColorTypes.Gray{FixedPointNumbers.N0f8}, 2, UInt8, Matrix{UInt8}, Vector{ColorTypes.Gray{FixedPointNumbers.N0f8}}}:\n Gray{N0f8}(0.557)  Gray{N0f8}(0.667)  …  Gray{N0f8}(0.667)\n Gray{N0f8}(0.667)  Gray{N0f8}(0.557)     Gray{N0f8}(0.557)\n Gray{N0f8}(0.557)  Gray{N0f8}(0.667)     Gray{N0f8}(0.557)\n Gray{N0f8}(0.557)  Gray{N0f8}(0.667)     Gray{N0f8}(0.667)\n Gray{N0f8}(0.557)  Gray{N0f8}(0.667)     Gray{N0f8}(0.557)\n Gray{N0f8}(0.667)  Gray{N0f8}(0.557)  …  Gray{N0f8}(0.557)\n Gray{N0f8}(0.557)  Gray{N0f8}(0.667)     Gray{N0f8}(0.557)\n Gray{N0f8}(0.667)  Gray{N0f8}(0.557)     Gray{N0f8}(0.557)\n Gray{N0f8}(0.667)  Gray{N0f8}(0.667)     Gray{N0f8}(0.557)\n Gray{N0f8}(0.667)  Gray{N0f8}(0.557)     Gray{N0f8}(0.557)\n ⋮                                     ⋱  ⋮\n Gray{N0f8}(0.443)  Gray{N0f8}(0.557)     Gray{N0f8}(0.443)\n Gray{N0f8}(0.557)  Gray{N0f8}(0.557)     Gray{N0f8}(0.443)\n Gray{N0f8}(0.557)  Gray{N0f8}(0.443)  …  Gray{N0f8}(0.557)\n Gray{N0f8}(0.443)  Gray{N0f8}(0.443)     Gray{N0f8}(0.443)\n Gray{N0f8}(0.557)  Gray{N0f8}(0.443)     Gray{N0f8}(0.443)\n Gray{N0f8}(0.443)  Gray{N0f8}(0.443)     Gray{N0f8}(0.333)\n Gray{N0f8}(0.557)  Gray{N0f8}(0.557)     Gray{N0f8}(0.443)\n Gray{N0f8}(0.443)  Gray{N0f8}(0.443)  …  Gray{N0f8}(0.557)\n Gray{N0f8}(0.443)  Gray{N0f8}(0.443)     Gray{N0f8}(0.443)",
      "image/png": "[encoded data removed]"
     },
     "metadata": {},
     "execution_count": 4
    }
   ],
   "cell_type": "code",
   "source": [
    "d = dither(img, FloydSteinberg(), cs)"
   ],
   "metadata": {},
   "execution_count": 4
  },
  {
   "cell_type": "markdown",
   "source": [
    "Instead of showing `d` as an image, we can use its indices\n",
    "to select the corresponding ASCII characters from the ramp."
   ],
   "metadata": {}
  },
  {
   "outputs": [
    {
     "output_type": "execute_result",
     "data": {
      "text/plain": "37×86 Matrix{SubString{String}}:\n \"+\"  \"*\"  \"+\"  \"*\"  \"+\"  \"*\"  \"*\"  \"*\"  …  \"+\"  \"*\"  \"+\"  \"+\"  \"*\"  \"+\"  \"*\"\n \"*\"  \"+\"  \"*\"  \"*\"  \"*\"  \"+\"  \"*\"  \"+\"     \"+\"  \"+\"  \"*\"  \"+\"  \"+\"  \"+\"  \"+\"\n \"+\"  \"*\"  \"+\"  \"+\"  \"*\"  \"+\"  \"*\"  \"*\"     \"*\"  \"*\"  \"+\"  \"*\"  \"+\"  \"*\"  \"+\"\n \"+\"  \"*\"  \"+\"  \"*\"  \"+\"  \"*\"  \"+\"  \"*\"     \"+\"  \"+\"  \"*\"  \"+\"  \"*\"  \"+\"  \"*\"\n \"+\"  \"*\"  \"+\"  \"*\"  \"*\"  \"*\"  \"+\"  \"*\"     \"*\"  \"+\"  \"+\"  \"*\"  \"+\"  \"*\"  \"+\"\n \"*\"  \"+\"  \"*\"  \"+\"  \"*\"  \"+\"  \"*\"  \"*\"  …  \"+\"  \"*\"  \"+\"  \"+\"  \"+\"  \"+\"  \"+\"\n \"+\"  \"*\"  \"*\"  \"+\"  \"*\"  \"*\"  \"*\"  \"*\"     \"+\"  \"+\"  \"+\"  \"*\"  \"+\"  \"*\"  \"+\"\n \"*\"  \"+\"  \"*\"  \"*\"  \"*\"  \"*\"  \"+\"  \"*\"     \"*\"  \"+\"  \"*\"  \"+\"  \"+\"  \"+\"  \"+\"\n \"*\"  \"*\"  \"*\"  \"+\"  \"*\"  \"*\"  \"*\"  \"*\"     \"+\"  \"+\"  \"+\"  \"+\"  \"+\"  \"+\"  \"+\"\n \"*\"  \"+\"  \"*\"  \"*\"  \"*\"  \"*\"  \"*\"  \"*\"     \"+\"  \"+\"  \"+\"  \"+\"  \"*\"  \"+\"  \"+\"\n ⋮                        ⋮              ⋱       ⋮                        ⋮\n \"=\"  \"+\"  \"+\"  \"=\"  \"+\"  \"+\"  \"+\"  \"+\"     \"=\"  \"=\"  \"-\"  \"-\"  \"=\"  \"=\"  \"=\"\n \"+\"  \"+\"  \"+\"  \"+\"  \"+\"  \"+\"  \"+\"  \"=\"     \"=\"  \"=\"  \"-\"  \"=\"  \"=\"  \"=\"  \"=\"\n \"+\"  \"=\"  \"+\"  \"+\"  \"+\"  \"+\"  \"=\"  \"+\"  …  \"=\"  \"=\"  \"=\"  \"+\"  \"=\"  \"+\"  \"+\"\n \"=\"  \"=\"  \"+\"  \"=\"  \"+\"  \"+\"  \"+\"  \"+\"     \"+\"  \"=\"  \"=\"  \"=\"  \"=\"  \"=\"  \"=\"\n \"+\"  \"=\"  \"+\"  \"+\"  \"=\"  \"=\"  \"=\"  \"=\"     \"=\"  \"=\"  \"=\"  \"+\"  \"-\"  \"=\"  \"=\"\n \"=\"  \"=\"  \"=\"  \"+\"  \"=\"  \"=\"  \"+\"  \"+\"     \"=\"  \"+\"  \"=\"  \"=\"  \"+\"  \"=\"  \"-\"\n \"+\"  \"+\"  \"*\"  \"+\"  \"=\"  \"=\"  \"+\"  \"=\"     \"=\"  \"-\"  \"=\"  \"=\"  \"=\"  \"=\"  \"=\"\n \"=\"  \"=\"  \"=\"  \"+\"  \"=\"  \"=\"  \"=\"  \"-\"  …  \"=\"  \"-\"  \"-\"  \"=\"  \"-\"  \"=\"  \"+\"\n \"=\"  \"=\"  \"=\"  \"=\"  \"+\"  \"=\"  \"+\"  \"=\"     \"=\"  \"=\"  \"-\"  \"=\"  \"=\"  \"=\"  \"=\""
     },
     "metadata": {},
     "execution_count": 5
    }
   ],
   "cell_type": "code",
   "source": [
    "mat = ascii_ramp[d.index]"
   ],
   "metadata": {},
   "execution_count": 5
  },
  {
   "cell_type": "markdown",
   "source": [
    "Pretty printing each row of this matrix will output the image:"
   ],
   "metadata": {}
  },
  {
   "outputs": [
    {
     "name": "stdout",
     "output_type": "stream",
     "text": [
      "+*+*+********************#**#**#**#*#*#*#*#*#*#*#***#**********************+*+*+*++*+*\n",
      "*+***+*++**+*****************#***#***#**#*#**#***#*#**#**#***********+**++**+*+++*++++\n",
      "+*++*+***+*************#**#***#**#*#**#*#*#*#*#*#****#********************+*+****+*+*+\n",
      "+*+*+*+*+****+**************#**#**#*##*#*#*#*#*#*#*#****#**********+*+*+**+**++++*+*+*\n",
      "+*+***+***+************#***#**#**#*#*#*##*#*#*#*#*#*##*#***#************+*+*+***++*+*+\n",
      "*+*+*+**+***********#****#**#**#*##+. :=*##*#*#*#**#******************+***+*+*++*+++++\n",
      "+**+**************#***#*#**#*#*#**   .     --#*#*#**#*#*#*#********+****+*+*+*++++*+*+\n",
      "*+****+********#**#**#*#*#**#*#**:        .. .*#**#***#***************+**+*+*++*+*++++\n",
      "***+**********#****#**#**#*#*#*#:   *  .#*==.:::-#*#****************+**+*++*++*+++++++\n",
      "*+**************#*#**#*##*#***-.  . ==++***#::-*##:=%@*#**#*******+**+*+*+*++++++++*++\n",
      "**+*********#******#*-.    ..    #==: :=+--*.-:..:-+:**************+**+*+*+*+*++*+++++\n",
      "***************##*#.... . ... . . -+=.   +*+::.:=:.=**+++*********+****+*+*+*++*++++*+\n",
      "+**+*********#**-   .. .      :   = ..   -**+::::..  **********+****+*+**+*++*++++*+++\n",
      "**+**+**+****# :  .   .  . .      ... +..:+=+##@%#::*********+***+**+**+*+*+*++*++++++\n",
      "+***+*******.      . .      . . .   +:.    #*#%%=..***+*+*+***+***+**+**+*+*+++++*++++\n",
      "*++**+*+*** .  . .  .  . . .      + .. .   +   ...:********+***++*+***+*+*++*+*+++++++\n",
      "*+**+***+***       .  . .    .-..   .    ..+.#=:  .****+**+*+*+**=+*+*+*+*+*++++*+++++\n",
      "**+**+****+***=. .     . . ..::..    . .   :  . ..****+**+*****+*#*#*+*+*+*+*+*++++*++\n",
      "*+****+*+******..  . .    . ....: ..      :.=# *+..*****+***+*+***#***+**+*++*++*+++++\n",
      "***+*******+***.       .   .  :  ..  :**. - +#***+: **+***+**+*+******+*+*###*++++*+++\n",
      "*+**+*+*+*****.. . . .  . . .   . . .*** :.=+#***==  *#**#******+*#***+*+*+++*+*+++++*\n",
      "=====+*******:. . . . .  .   . .    *### +*++#*+==++..#+**###*+++#*#*+*+*++++*++*+*+++\n",
      "---+=++++==*:      .   .  . .  . . %### ..#*+#**##*+*  ***+*+*+++=++++*+*****+=+==+=+=\n",
      ":-::::::-:-.  . . .  .  .  . . .  :*+++.+-=-+%=+**+*+= ..*..+:#-:.:+#*##*#*#*+=--.----\n",
      "=++++++++*  .  . .  .  . .    .  :++++   +-=.:**-+=:--=  *.--=:...::.: -*+:-.==-..:: .\n",
      "=+*+===++     .    .  .   . .  . -=+-= =-==-+#-=====+=+=  +==+=+=++=+++++++=+=+=++=++=\n",
      "+++=++=+:. . .  . .  . .  .  .  -++*+: :*=++=#+++++-*+=+=  ++=+=+=+=+==+=====+========\n",
      "+=++===+  .    .   .  . .  .  .-=+=+= = ==++=#+=+====-#===  ======-====-=====-======-=\n",
      "=++=++++++  .   . . .     . .  +++++  -=++++-#+++++++++=#+=. ++++=+====+=====+===--===\n",
      "+++++++==+++.:  .  . . .  .  .+++++= =:==++=+++++++===+=++*=.#=+++=+==+====+=====-====\n",
      "+=++++=+++++. :.      . .  .  +++*+..++++==+=++==+++++++=+=+= .====-=======+==+===+=++\n",
      "==+=++++++*+ ..::.. .     . .+=+==-.-.-===*==+=+++++++=++++++=. +++====+======++======\n",
      "+=++=====++:. .:::::  . ..::-+===+  *=-==+-==++===+=+++=+++=+=+ .+==+====+==+=====+-==\n",
      "===+==++=-+..: .::.+ ..: .::+=++++:@@+====++++=+=++=+++++++*+++=:*++===+-=-+==-=+==+=-\n",
      "++*+==+=+=* .:..:.=+.:. ...=+=+=+:=@==++=+===+=====+++===+====-==-*+=+==+-=+=--=-=====\n",
      "===+===-=== . :::.=+::-::- .=====:##-+-====++===+++++=++==++======-#==+====-====--=-=+\n",
      "====+=+==++ :. :.=-=-..-::.:=+=+:-@-+=+++++==+=====++====+=+==++==+:#=-===--=====-====\n"
     ]
    }
   ],
   "cell_type": "code",
   "source": [
    "for r in eachrow(mat)\n",
    "    println(join(r))\n",
    "end"
   ],
   "metadata": {},
   "execution_count": 6
  },
  {
   "cell_type": "markdown",
   "source": [
    "---\n",
    "\n",
    "*This notebook was generated using [Literate.jl](https://github.com/fredrikekre/Literate.jl).*"
   ],
   "metadata": {}
  }
 ],
 "nbformat_minor": 3,
 "metadata": {
  "language_info": {
   "file_extension": ".jl",
   "mimetype": "application/julia",
   "name": "julia",
   "version": "1.7.1"
  },
  "kernelspec": {
   "name": "julia-1.7",
   "display_name": "Julia 1.7.1",
   "language": "julia"
  }
 },
 "nbformat": 4
}
