{
 "cells": [
  {
   "outputs": [],
   "cell_type": "code",
   "source": [
    "using DitherPunk\n",
    "using Images\n",
    "using ColorSchemes\n",
    "using TestImages"
   ],
   "metadata": {},
   "execution_count": 1
  },
  {
   "cell_type": "markdown",
   "source": [
    "# Color dithering\n",
    "## Defining a color scheme\n",
    "Let's assume we want to recreate an image by stacking ``20 \\times 20`` Rubik's cubes.\n",
    "Dithering algorithms are perfect for this task!\n",
    "We start out by defining a custom color scheme:"
   ],
   "metadata": {}
  },
  {
   "outputs": [
    {
     "output_type": "execute_result",
     "data": {
      "text/plain": "ColorSchemes.ColorScheme{Vector{ColorTypes.RGB{Float32}}, String, String}(ColorTypes.RGB{Float32}[RGB{Float32}(1.0f0,1.0f0,1.0f0), RGB{Float32}(1.0f0,1.0f0,0.0f0), RGB{Float32}(0.0f0,0.5f0,0.0f0), RGB{Float32}(1.0f0,0.5f0,0.0f0), RGB{Float32}(1.0f0,0.0f0,0.0f0), RGB{Float32}(0.0f0,0.0f0,1.0f0)], \"\", \"\")",
      "image/svg+xml": [
       "<?xml version=\"1.0\" encoding=\"UTF-8\"?>\n",
       "<!DOCTYPE svg PUBLIC \"-//W3C//DTD SVG 1.1//EN\"\n",
       " \"http://www.w3.org/Graphics/SVG/1.1/DTD/svg11.dtd\">\n",
       "<svg xmlns=\"http://www.w3.org/2000/svg\" version=\"1.1\"\n",
       "     width=\"150mm\" height=\"25mm\"\n",
       "     viewBox=\"0 0 6 1\" preserveAspectRatio=\"none\"\n",
       "     shape-rendering=\"crispEdges\" stroke=\"none\">\n",
       "<rect width=\".96\" height=\".96\" x=\"0\" y=\"0\" fill=\"#FFFFFF\" />\n",
       "<rect width=\".96\" height=\".96\" x=\"1\" y=\"0\" fill=\"#FFFF00\" />\n",
       "<rect width=\".96\" height=\".96\" x=\"2\" y=\"0\" fill=\"#008000\" />\n",
       "<rect width=\".96\" height=\".96\" x=\"3\" y=\"0\" fill=\"#FF8000\" />\n",
       "<rect width=\".96\" height=\".96\" x=\"4\" y=\"0\" fill=\"#FF0000\" />\n",
       "<rect width=\".96\" height=\".96\" x=\"5\" y=\"0\" fill=\"#0000FF\" />\n",
       "</svg>"
      ]
     },
     "metadata": {},
     "execution_count": 2
    }
   ],
   "cell_type": "code",
   "source": [
    "white = RGB{Float32}(1, 1, 1)\n",
    "yellow = RGB{Float32}(1, 1, 0)\n",
    "green = RGB{Float32}(0, 0.5, 0)\n",
    "orange = RGB{Float32}(1, 0.5, 0)\n",
    "red = RGB{Float32}(1, 0, 0)\n",
    "blue = RGB{Float32}(0, 0, 1)\n",
    "\n",
    "rubiks_colors = ColorScheme([white, yellow, green, orange, red, blue])"
   ],
   "metadata": {},
   "execution_count": 2
  },
  {
   "cell_type": "markdown",
   "source": [
    "Any of the predefined color schemes from\n",
    "[ColorSchemes.jl](https://juliagraphics.github.io/ColorSchemes.jl/stable/basics/#Pre-defined-schemes)\n",
    "can also be used!"
   ],
   "metadata": {}
  },
  {
   "cell_type": "markdown",
   "source": [
    "## Dithering the image\n",
    "Now we only have to pick an image"
   ],
   "metadata": {}
  },
  {
   "outputs": [
    {
     "output_type": "execute_result",
     "data": {
      "text/plain": "60×60 Array{RGB{N0f8},2} with eltype ColorTypes.RGB{FixedPointNumbers.N0f8}:\n RGB{N0f8}(0.455,0.333,0.318)  …  RGB{N0f8}(0.141,0.192,0.227)\n RGB{N0f8}(0.427,0.345,0.322)     RGB{N0f8}(0.137,0.188,0.224)\n RGB{N0f8}(0.435,0.357,0.318)     RGB{N0f8}(0.137,0.188,0.224)\n RGB{N0f8}(0.451,0.361,0.329)     RGB{N0f8}(0.11,0.161,0.196)\n RGB{N0f8}(0.435,0.357,0.318)     RGB{N0f8}(0.125,0.165,0.204)\n RGB{N0f8}(0.4,0.357,0.318)    …  RGB{N0f8}(0.133,0.173,0.22)\n RGB{N0f8}(0.416,0.341,0.31)      RGB{N0f8}(0.125,0.176,0.212)\n RGB{N0f8}(0.427,0.361,0.322)     RGB{N0f8}(0.122,0.173,0.208)\n RGB{N0f8}(0.435,0.369,0.302)     RGB{N0f8}(0.129,0.18,0.216)\n RGB{N0f8}(0.435,0.369,0.298)     RGB{N0f8}(0.137,0.176,0.212)\n ⋮                             ⋱  \n RGB{N0f8}(0.722,0.706,0.569)     RGB{N0f8}(0.106,0.204,0.251)\n RGB{N0f8}(0.686,0.616,0.545)     RGB{N0f8}(0.125,0.196,0.243)\n RGB{N0f8}(0.831,0.741,0.631)     RGB{N0f8}(0.106,0.176,0.204)\n RGB{N0f8}(0.851,0.749,0.631)     RGB{N0f8}(0.157,0.169,0.216)\n RGB{N0f8}(0.671,0.635,0.58)   …  RGB{N0f8}(0.165,0.173,0.188)\n RGB{N0f8}(0.784,0.671,0.522)     RGB{N0f8}(0.655,0.345,0.271)\n RGB{N0f8}(0.808,0.733,0.584)     RGB{N0f8}(0.812,0.443,0.298)\n RGB{N0f8}(0.541,0.475,0.388)     RGB{N0f8}(0.843,0.522,0.424)\n RGB{N0f8}(0.773,0.678,0.588)     RGB{N0f8}(0.925,0.588,0.478)",
      "image/png": "[encoded data removed]"
     },
     "metadata": {},
     "execution_count": 3
    }
   ],
   "cell_type": "code",
   "source": [
    "img = testimage(\"fabio_color_256\")\n",
    "img = imresize(img, 60, 60)"
   ],
   "metadata": {},
   "execution_count": 3
  },
  {
   "cell_type": "markdown",
   "source": [
    "and run an `ErrorDiffusion` algorithm of our choice, e.g. `FloydSteinberg`.\n",
    "For an overview of all error diffusion algorithms, check out the gallery."
   ],
   "metadata": {}
  },
  {
   "outputs": [
    {
     "output_type": "execute_result",
     "data": {
      "text/plain": "60×60 Array{RGB{N0f8},2} with eltype ColorTypes.RGB{FixedPointNumbers.N0f8}:\n RGB{N0f8}(1.0,0.0,0.0)    …  RGB{N0f8}(0.0,0.0,1.0)\n RGB{N0f8}(0.0,0.0,1.0)       RGB{N0f8}(0.0,0.502,0.0)\n RGB{N0f8}(1.0,0.502,0.0)     RGB{N0f8}(0.0,0.502,0.0)\n RGB{N0f8}(0.0,0.0,1.0)       RGB{N0f8}(0.0,0.0,1.0)\n RGB{N0f8}(0.0,0.502,0.0)     RGB{N0f8}(0.0,0.502,0.0)\n RGB{N0f8}(1.0,0.0,0.0)    …  RGB{N0f8}(0.0,0.502,0.0)\n RGB{N0f8}(0.0,0.502,0.0)     RGB{N0f8}(0.0,0.0,1.0)\n RGB{N0f8}(1.0,0.0,0.0)       RGB{N0f8}(0.0,0.502,0.0)\n RGB{N0f8}(0.0,0.502,0.0)     RGB{N0f8}(0.0,0.0,1.0)\n RGB{N0f8}(1.0,0.0,0.0)       RGB{N0f8}(0.0,0.502,0.0)\n ⋮                         ⋱  \n RGB{N0f8}(1.0,1.0,1.0)       RGB{N0f8}(0.0,0.502,0.0)\n RGB{N0f8}(1.0,0.502,0.0)     RGB{N0f8}(0.0,0.502,0.0)\n RGB{N0f8}(1.0,1.0,1.0)       RGB{N0f8}(0.0,0.0,1.0)\n RGB{N0f8}(1.0,0.502,0.0)     RGB{N0f8}(0.0,0.0,1.0)\n RGB{N0f8}(1.0,1.0,1.0)    …  RGB{N0f8}(0.0,0.502,0.0)\n RGB{N0f8}(1.0,1.0,1.0)       RGB{N0f8}(1.0,0.0,0.0)\n RGB{N0f8}(1.0,0.502,0.0)     RGB{N0f8}(1.0,0.0,0.0)\n RGB{N0f8}(0.0,0.0,1.0)       RGB{N0f8}(1.0,1.0,1.0)\n RGB{N0f8}(1.0,1.0,0.0)       RGB{N0f8}(1.0,0.502,0.0)",
      "image/png": "[encoded data removed]"
     },
     "metadata": {},
     "execution_count": 4
    }
   ],
   "cell_type": "code",
   "source": [
    "d = dither(img, FloydSteinberg(), rubiks_colors)"
   ],
   "metadata": {},
   "execution_count": 4
  },
  {
   "cell_type": "markdown",
   "source": [
    "---\n",
    "\n",
    "*This notebook was generated using [Literate.jl](https://github.com/fredrikekre/Literate.jl).*"
   ],
   "metadata": {}
  }
 ],
 "nbformat_minor": 3,
 "metadata": {
  "language_info": {
   "file_extension": ".jl",
   "mimetype": "application/julia",
   "name": "julia",
   "version": "1.6.1"
  },
  "kernelspec": {
   "name": "julia-1.6",
   "display_name": "Julia 1.6.1",
   "language": "julia"
  }
 },
 "nbformat": 4
}
